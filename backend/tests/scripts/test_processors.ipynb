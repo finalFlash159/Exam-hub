{
 "cells": [
  {
   "cell_type": "code",
   "execution_count": null,
   "id": "b4dcf2d3",
   "metadata": {},
   "outputs": [
    {
     "name": "stdout",
     "output_type": "stream",
     "text": [
      "✅ Setup completed!\n",
      "Current working directory: /Users/vominhthinh/Workspace/Exam-hub/backend/app/processors\n",
      "Python path: /Users/vominhthinh/Workspace/Exam-hub/backend\n"
     ]
    }
   ],
   "source": [
    "# Cell 1: Setup & Imports\n",
    "import os\n",
    "import sys\n",
    "import asyncio\n",
    "import tempfile\n",
    "import logging\n",
    "\n",
    "# Add backend to path để import được modules\n",
    "sys.path.append(os.path.dirname(os.path.dirname(os.path.abspath('.'))))\n",
    "\n",
    "print(\"✅ Setup completed!\")\n",
    "print(f\"Current working directory: {os.getcwd()}\")\n",
    "print(f\"Python path: {sys.path[-1]}\")"
   ]
  },
  {
   "cell_type": "code",
   "execution_count": 3,
   "id": "75301e04",
   "metadata": {},
   "outputs": [
    {
     "name": "stdout",
     "output_type": "stream",
     "text": [
      "✅ All processors imported successfully!\n",
      "📁 Supported extensions: {'.pdf', '.docx', '.txt'}\n"
     ]
    }
   ],
   "source": [
    "# Cell 2: Import Processors\n",
    "try:\n",
    "    from app.processors import DocumentProcessor, ProcessingResult\n",
    "    from app.processors.pdf_processor import PDFProcessor\n",
    "    from app.processors.docx_processor import DOCXProcessor\n",
    "    from app.processors.txt_processor import TXTProcessor\n",
    "    \n",
    "    print(\"✅ All processors imported successfully!\")\n",
    "    \n",
    "    # Initialize main processor\n",
    "    doc_processor = DocumentProcessor()\n",
    "    print(f\"📁 Supported extensions: {doc_processor.get_supported_extensions()}\")\n",
    "    \n",
    "except ImportError as e:\n",
    "    print(f\"❌ Import error: {e}\")\n",
    "    print(\"Make sure you're running from the correct directory\")"
   ]
  },
  {
   "cell_type": "code",
   "execution_count": 11,
   "id": "5779ae1f",
   "metadata": {},
   "outputs": [
    {
     "name": "stderr",
     "output_type": "stream",
     "text": [
      "INFO - Extracted 75796 chars from PDF\n"
     ]
    },
    {
     "name": "stdout",
     "output_type": "stream",
     "text": [
      "✅ PDF OK: 75,796 characters\n",
      "Preview: Nature  |  Vol 630  |  20 June 2024  |  625\n",
      "Article\n",
      "Detecting hallucinations in large language \n",
      "models using semantic entropy\n",
      "Sebastian Farquhar1,2 ✉, Jannik Kossen1,2, Lorenz Kuhn1,2 & Yarin Gal1\n",
      "Lar...\n"
     ]
    }
   ],
   "source": [
    "# Cell: Test PDF Simple\n",
    "pdf_path = \"/Users/vominhthinh/Workspace/Exam-hub/backend/app/processors/s41586-024-07421-0.pdf\"\n",
    "\n",
    "pdf_processor = PDFProcessor()\n",
    "result = await pdf_processor.extract_text(pdf_path)\n",
    "\n",
    "if result.success:\n",
    "    print(f\"✅ PDF OK: {len(result.content):,} characters\")\n",
    "    print(f\"Preview: {result.content[:200]}...\")\n",
    "else:\n",
    "    print(f\"❌ PDF Error: {result.error_message}\")"
   ]
  },
  {
   "cell_type": "code",
   "execution_count": 13,
   "id": "39208ab8",
   "metadata": {},
   "outputs": [
    {
     "name": "stderr",
     "output_type": "stream",
     "text": [
      "INFO - Extracted 1178 chars from DOCX\n"
     ]
    },
    {
     "name": "stdout",
     "output_type": "stream",
     "text": [
      "✅ DOCX OK: 1,178 characters\n",
      "Preview: ĐƠN ĐĂNG KÝ HỌC PHẦN SEMINAR CHUYÊN NGÀNH \n",
      "\t\t      \t\tKính gửi:  Ban chủ nhiệm Khoa Toán – Tin học\n",
      "Họ và tên sinh viên: …Võ Minh Thịnh……………………MSSV: …22280087………..…\n",
      "Thuộc chương trình: Đại trà          ...\n"
     ]
    }
   ],
   "source": [
    "# Cell: Test DOCX Simple\n",
    "docx_path = \"/Users/vominhthinh/Workspace/Exam-hub/backend/app/processors/Đơn đăng ký Seminar chuyên ngành - thịnh võ.docx\"\n",
    "\n",
    "docx_processor = DOCXProcessor()\n",
    "result = await docx_processor.extract_text(docx_path)\n",
    "\n",
    "if result.success:\n",
    "    print(f\"✅ DOCX OK: {len(result.content):,} characters\")\n",
    "    print(f\"Preview: {result.content[:200]}...\")\n",
    "else:\n",
    "    print(f\"❌ DOCX Error: {result.error_message}\")"
   ]
  },
  {
   "cell_type": "code",
   "execution_count": null,
   "id": "f8119c27",
   "metadata": {},
   "outputs": [],
   "source": [
    "# Cell: Test TXT Simple\n",
    "txt_path = \"/Users/vominhthinh/Workspace/Exam-hub/backend/app/processors/test.txt\"\n",
    "\n",
    "# Create test file\n",
    "with open(txt_path, 'w', encoding='utf-8') as f:\n",
    "    f.write(\"Test content\\nMultiple lines\\nFor testing\")\n",
    "\n",
    "txt_processor = TXTProcessor()\n",
    "result = await txt_processor.extract_text(txt_path)\n",
    "\n",
    "if result.success:\n",
    "    print(f\"✅ TXT OK: {len(result.content):,} characters\")\n",
    "    print(f\"Content: {result.content}\")\n",
    "else:\n",
    "    print(f\"❌ TXT Error: {result.error_message}\")"
   ]
  }
 ],
 "metadata": {
  "kernelspec": {
   "display_name": "base",
   "language": "python",
   "name": "python3"
  },
  "language_info": {
   "codemirror_mode": {
    "name": "ipython",
    "version": 3
   },
   "file_extension": ".py",
   "mimetype": "text/x-python",
   "name": "python",
   "nbconvert_exporter": "python",
   "pygments_lexer": "ipython3",
   "version": "3.12.2"
  }
 },
 "nbformat": 4,
 "nbformat_minor": 5
}
